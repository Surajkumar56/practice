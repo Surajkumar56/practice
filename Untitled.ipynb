{
 "cells": [
  {
   "cell_type": "code",
   "execution_count": 2,
   "id": "ecf124ec",
   "metadata": {},
   "outputs": [
    {
     "name": "stdout",
     "output_type": "stream",
     "text": [
      "49995000\n",
      "[4 6 8]\n",
      "[ 2.   0.  -7.4]\n",
      "6\n"
     ]
    }
   ],
   "source": [
    "import numpy as np\n",
    "print(np.sum(np.arange(10000)))\n",
    "print(2*np.array([2,3,4]))\n",
    "print(np.array([10.2,3.5,-0.9])-np.array([8.2,3.5,6.5]))\n",
    "print(np.dot(np.array([1,-3,4]),np.array([2,0,1])))"
   ]
  },
  {
   "cell_type": "code",
   "execution_count": 3,
   "id": "d74ccf88",
   "metadata": {},
   "outputs": [
    {
     "name": "stdout",
     "output_type": "stream",
     "text": [
      "25\n",
      "[1, 9, 25, 49, 81]\n",
      "[1, 23, 89]\n",
      "15\n"
     ]
    }
   ],
   "source": [
    "square=lambda n:n**2\n",
    "print(square(5))\n",
    "def square(n):\n",
    "    return n**2\n",
    "squares=map(square, range(1,10,2))\n",
    "print(list(squares))\n",
    "nums=[1,34,23,56,89,44,92]\n",
    "odds=list(filter(lambda x:x%2!=0, nums))\n",
    "print(odds)\n",
    "from functools import reduce\n",
    "nums=[1,2,3,4,5]\n",
    "sum=reduce(lambda x,y:x+y, nums)\n",
    "print(sum)"
   ]
  },
  {
   "cell_type": "code",
   "execution_count": 9,
   "id": "5b915007",
   "metadata": {},
   "outputs": [
    {
     "name": "stdout",
     "output_type": "stream",
     "text": [
      "   maths  english  science  history\n",
      "0      9        4        8        9\n",
      "1      8       10        7        6\n",
      "2      7        6        8        5\n",
      "maths      24\n",
      "english    20\n",
      "science    23\n",
      "history    20\n",
      "dtype: int64\n",
      "       maths    english   science   history\n",
      "count    3.0   3.000000  3.000000  3.000000\n",
      "mean     8.0   6.666667  7.666667  6.666667\n",
      "std      1.0   3.055050  0.577350  2.081666\n",
      "min      7.0   4.000000  7.000000  5.000000\n",
      "25%      7.5   5.000000  7.500000  5.500000\n",
      "50%      8.0   6.000000  8.000000  6.000000\n",
      "75%      8.5   8.000000  8.000000  7.500000\n",
      "max      9.0  10.000000  8.000000  9.000000\n",
      "     maths  english  science  history\n",
      "sum     24       20       23       20\n",
      "min      7        4        7        5\n",
      "max      9       10        8        9\n",
      "<pandas.core.groupby.generic.DataFrameGroupBy object at 0x000001BFD3732E80>\n",
      "       english  science  history\n",
      "maths                           \n",
      "7            6        8        5\n",
      "8           10        7        6\n",
      "9            4        8        9\n"
     ]
    }
   ],
   "source": [
    "import pandas as pd\n",
    "df=pd.DataFrame([[9,4,8,9],\n",
    "                [8,10,7,6],\n",
    "                [7,6,8,5]],\n",
    "               columns=['maths','english','science','history'])\n",
    "print(df)\n",
    "print(df.sum())\n",
    "print(df.describe())\n",
    "print(df.agg(['sum','min','max']))\n",
    "print(df.groupby(by=['maths']))\n",
    "a=df.groupby('maths')\n",
    "print(a.first())"
   ]
  },
  {
   "cell_type": "code",
   "execution_count": 10,
   "id": "644f541b",
   "metadata": {},
   "outputs": [
    {
     "name": "stdout",
     "output_type": "stream",
     "text": [
      "DatetimeIndex(['2019-01-01 00:00:00', '2019-01-01 00:01:00',\n",
      "               '2019-01-01 00:02:00', '2019-01-01 00:03:00',\n",
      "               '2019-01-01 00:04:00', '2019-01-01 00:05:00',\n",
      "               '2019-01-01 00:06:00', '2019-01-01 00:07:00',\n",
      "               '2019-01-01 00:08:00', '2019-01-01 00:09:00',\n",
      "               ...\n",
      "               '2019-01-07 23:51:00', '2019-01-07 23:52:00',\n",
      "               '2019-01-07 23:53:00', '2019-01-07 23:54:00',\n",
      "               '2019-01-07 23:55:00', '2019-01-07 23:56:00',\n",
      "               '2019-01-07 23:57:00', '2019-01-07 23:58:00',\n",
      "               '2019-01-07 23:59:00', '2019-01-08 00:00:00'],\n",
      "              dtype='datetime64[ns]', length=10081, freq='T')\n"
     ]
    }
   ],
   "source": [
    "import pandas as pd\n",
    "from datetime import datetime\n",
    "import numpy as np\n",
    "range_date=pd.date_range(start='1/1/2019',end='1/08/2019',freq='min')\n",
    "print(range_date)"
   ]
  },
  {
   "cell_type": "code",
   "execution_count": 11,
   "id": "0cbb6027",
   "metadata": {},
   "outputs": [
    {
     "name": "stdout",
     "output_type": "stream",
     "text": [
      "<class 'pandas._libs.tslibs.timestamps.Timestamp'>\n"
     ]
    }
   ],
   "source": [
    "import pandas as pd\n",
    "from datetime import datetime\n",
    "import numpy as np\n",
    "range_date=pd.date_range(start='1/1/2019',end='1/08/2019',freq='min')\n",
    "print(type(range_date[110]))"
   ]
  },
  {
   "cell_type": "code",
   "execution_count": 12,
   "id": "20e4409e",
   "metadata": {},
   "outputs": [
    {
     "name": "stdout",
     "output_type": "stream",
     "text": [
      "['2019-01-01 00:01:00', '2019-01-01 00:02:00', '2019-01-01 00:03:00', '2019-01-01 00:04:00', '2019-01-01 00:05:00', '2019-01-01 00:06:00', '2019-01-01 00:07:00', '2019-01-01 00:08:00', '2019-01-01 00:09:00', '2019-01-01 00:10:00']\n"
     ]
    }
   ],
   "source": [
    "import pandas as pd\n",
    "from datetime import datetime\n",
    "import numpy as np\n",
    "range_date=pd.date_range(start='1/1/2019',end='1/08/2019',freq='min')\n",
    "df=pd.DataFrame(range_date,columns=['date'])\n",
    "df['data']=np.random.randint(0,100,size=(len(range_date)))\n",
    "string_data=[str(x)for x in range_date]\n",
    "print(string_data[1:11])"
   ]
  },
  {
   "cell_type": "code",
   "execution_count": null,
   "id": "9ac6ed6d",
   "metadata": {},
   "outputs": [],
   "source": []
  }
 ],
 "metadata": {
  "kernelspec": {
   "display_name": "Python 3 (ipykernel)",
   "language": "python",
   "name": "python3"
  },
  "language_info": {
   "codemirror_mode": {
    "name": "ipython",
    "version": 3
   },
   "file_extension": ".py",
   "mimetype": "text/x-python",
   "name": "python",
   "nbconvert_exporter": "python",
   "pygments_lexer": "ipython3",
   "version": "3.9.13"
  }
 },
 "nbformat": 4,
 "nbformat_minor": 5
}
